{
 "cells": [
  {
   "cell_type": "markdown",
   "id": "ff907400-7ec0-4fed-9b97-b08f6b585c49",
   "metadata": {},
   "source": [
    "# Climate Projection"
   ]
  },
  {
   "cell_type": "markdown",
   "id": "5ffb11d2-ded5-4a37-bfec-bfee09a2254c",
   "metadata": {},
   "source": [
    "## Homework 1 : Heatwaves in a changing climate"
   ]
  },
  {
   "cell_type": "markdown",
   "id": "289c1440-b8dc-4451-8aee-4054726be9bf",
   "metadata": {},
   "source": [
    "The aim of the homework is to explore temperature timeseries to identify events of significant heat, and to reflect on the identification of these events. In the title above, the term *'heat wave'* is used, and it will be defined below. We invite you to begin with a 'naive' exploration of the data, so as to identify some of the difficulties which may arise in quantifying what could seem, a priori, as a simple event. \n",
    "\n",
    "The instructions below provide you with access to several datasets and to functions proposed as a starting point to explore these. Again, there is not a *right* answer, rather there are interesting questions and differents directions for analysis of the data.   \n",
    "\n",
    "The proposed datasets are:    \n",
    "- the SIRTA timeseries of measurements, recalled because it is familiar from the analyses in classwork, \n",
    "- a timeseries of temperatures for Paris, from 1970 to 2000, to serve as a reference period for Paris,\n",
    "- two timeseries of temperatures from simulations of a climate model for the period 2006-2100. The chosen model is the climate model of IPSL for the CMIP5 exercise, run with the RCP8.5 scenario for emissions, which corresponds to the strongest emissions considered. \n",
    "\n",
    "The locations chosen are\n",
    "- Paris, 48°N latitude and 2°E longitude; estimated population of 2,1 million, or 12,3 million if we include Ile-de-France as a whole, \n",
    "- Mumbai, formerly known as Bombay, 19°N latitude and 72°E longitude; estimated population of 12,5 million. "
   ]
  },
  {
   "cell_type": "code",
   "execution_count": null,
   "id": "8b2d9318-0f3d-41ab-b6a0-f6537768244b",
   "metadata": {},
   "outputs": [],
   "source": [
    "import numpy as np\n",
    "import matplotlib.pyplot as plt\n",
    "import pandas as pd\n",
    "import datetime as dt"
   ]
  },
  {
   "cell_type": "markdown",
   "id": "a8ba0f1f-26fe-4dc9-b89b-c04b99627377",
   "metadata": {},
   "source": [
    "### The SIRTA timeseries"
   ]
  },
  {
   "cell_type": "markdown",
   "id": "f595731e-05e9-4e3d-b830-1f65ce3dd4fb",
   "metadata": {},
   "source": [
    "The SIRTA timeseries is recalled because it has become familiar from classwork, and it has hourly time resolution which is interesting. Relative to the classwork, some additional instructions have been included to highlight times when the *hourly* temperature measurements are larger than a given threshold. "
   ]
  },
  {
   "cell_type": "code",
   "execution_count": null,
   "id": "60cca1ba",
   "metadata": {},
   "outputs": [],
   "source": [
    "# Read the CSV file\n",
    "file_path = 'data/tas_sirta.csv'\n",
    "tsirh_df = pd.read_csv(file_path, delimiter = \";\", index_col=0)\n",
    "tsirh_df.index = pd.to_datetime(tsirh_df.index, unit = 's')"
   ]
  },
  {
   "cell_type": "markdown",
   "id": "8baa89a5-f73c-4dca-996c-2df1a5a5123c",
   "metadata": {},
   "source": [
    "A note on the names of variables: \n",
    "- t for temperature\n",
    "- sir/par/mum for SIRTA, Paris, Mumbai respectively\n",
    "- h/p for historical (h) or projection (p)\n",
    "- df/ar to indicate a pandas DataFrame (df) or a standard numerical array (ar)\n",
    "So that tsirh_df is the temperature for SIRTA in a DataFrame (historical measurements, hourly resolution); tparp_df is the \n",
    "timeseries for Paris, in one climate projection, in a DataFrame."
   ]
  },
  {
   "cell_type": "code",
   "execution_count": null,
   "id": "957a595b-d860-4b94-b71a-b4f539d21ecd",
   "metadata": {},
   "outputs": [],
   "source": [
    "# As a first, naive exploration of hot events, a straightforward threshold for hourly temperature is proposed\n",
    "temp_hot = 34.0                         ## THRESHOLD TO BE PLAYED WITH\n",
    "# Plot of the SIRTA timeseries with a highlight for hot hours\n",
    "ax1 = tsirh_df.plot(label='temperature observations from SIRTA',color='cornflowerblue',figsize=(15,7)) \n",
    "###     The list of named colors in matplotlib: https://matplotlib.org/3.1.0/gallery/color/named_colors.html\n",
    "tsir_hot = tsirh_df['ta_regionale']>temp_hot              #  tsir_hot is indexed by time, but contains booleans (True / False)\n",
    "tsirh_df[tsir_hot].plot(ax=ax1, marker = '.', color = 'orangered', linestyle = 'None')     \n",
    "                                                          #  in the above, we use tsir_hot to select only specific times  \n",
    "plt.ylabel('Measured temperature (°C)')\n",
    "plt.title(f\"SIRTA hourly temperature time series {tsirh_df.index[0]} to {tsirh_df.index[-1]}\")\n",
    "plt.show()"
   ]
  },
  {
   "cell_type": "markdown",
   "id": "d710fcc7-c6a9-450a-9820-eeb585ae8fa1",
   "metadata": {},
   "source": [
    "### Reference timeseries for Paris"
   ]
  },
  {
   "cell_type": "markdown",
   "id": "0a6870e9-034f-4c44-b44f-39969f22e3df",
   "metadata": {},
   "source": [
    "A dataset of observations for temperatures in Paris is also provided, for the period 1970-2000 to serve as a reference period. "
   ]
  },
  {
   "cell_type": "code",
   "execution_count": null,
   "id": "418ce1a6-7416-4cca-8790-0c0583c567c0",
   "metadata": {},
   "outputs": [],
   "source": [
    "# Reading the CSV file\n",
    "file_path = 'data/paris_1970_2000.csv'\n",
    "#dfh = pd.read_csv(file_path, delimiter = \",\", index_col=0, header = None)\n",
    "tparh_df = pd.read_csv(file_path, delimiter = \",\", index_col=0)\n",
    "tparh_df.index = pd.to_datetime(tparh_df.index)\n",
    "tparh_df += -273.15                               # conversion in Celsius "
   ]
  },
  {
   "cell_type": "code",
   "execution_count": null,
   "id": "e23d8f67-a214-4218-bdad-c62bec409fa6",
   "metadata": {},
   "outputs": [],
   "source": [
    "pcol = 'mediumblue'; mcol = 'crimson'      # colors to differentiate plots concerning Paris or Mumbai\n",
    "pcom = 'aqua'      ; mcom = 'sandybrown'   # colors for the annual means\n",
    "                                           # python's named colors: https://matplotlib.org/stable/gallery/color/named_colors.html"
   ]
  },
  {
   "cell_type": "code",
   "execution_count": null,
   "id": "25de0b19-2068-4ef7-bf43-ce5f01013042",
   "metadata": {},
   "outputs": [],
   "source": [
    "ax1 = tparh_df.plot(label='temperature timeseries for Paris',color=pcol,figsize=(15,7)) \n",
    "plt.ylabel('Measured temperature (°C)')\n",
    "plt.title(f\"Paris temperature time series {tparh_df.index[0]} to {tparh_df.index[-1]}\")\n",
    "plt.show()"
   ]
  },
  {
   "cell_type": "markdown",
   "id": "4bd4db57-f5d9-43f7-841a-4cb5a0a94690",
   "metadata": {},
   "source": [
    "Similarly, historical data for Mumbai is introduced below. "
   ]
  },
  {
   "cell_type": "code",
   "execution_count": null,
   "id": "0f29e56a-d580-4af4-beda-60970b5369d5",
   "metadata": {},
   "outputs": [],
   "source": [
    "file_path = 'data/mumbai_1970_2000.csv'\n",
    "tmumh_df = pd.read_csv(file_path, delimiter = \",\", index_col=0)\n",
    "tmumh_df.index = pd.to_datetime(tmumh_df.index)\n",
    "tmumh_df += -273.15                               # conversion in Celsius "
   ]
  },
  {
   "cell_type": "markdown",
   "id": "6ac96372-10d6-406f-be39-fb6d8fe4bc85",
   "metadata": {},
   "source": [
    "### Your turn ! "
   ]
  },
  {
   "cell_type": "markdown",
   "id": "060b868c-cac4-44fc-9863-5ec4fa5e4e5a",
   "metadata": {},
   "source": [
    "The goal of this homework is to reflect and try to propose criteria in order to identify heatwaves using historical data and then explore outputs from climate projections. \n",
    "\n",
    "A first step consists in going from naive indicators of *'hot events'* to quantitative criteria for heat waves. For the sake of simplicity, we will work here only with the physical temperature (*). \n",
    "\n",
    "(*) Many indicators of heatwaves are developped that take into account the humidity (technically, they are based onthe *wet-bulb* temperature, which gives information not only on the physical temperature, but also on the thermoregulation capacity of living organisms, and in particular human. The wet-bulb temperature is the temperature of an air parcel *cooled down to saturation* (https://en.wikipedia.org/wiki/Wet-bulb_temperature). For air that is 100% saturated, the wet-bulb temperature and the temperature coincide. "
   ]
  },
  {
   "cell_type": "markdown",
   "id": "16206a24-b0bb-40c6-9bc2-412ff8e1c2f5",
   "metadata": {},
   "source": [
    "As a starting point we provide the definition below.   \n",
    "According to the [IPCC glossary](https://apps.ipcc.ch/glossary/), a heat wave is defined in the AR6 by \n",
    "> *\"A period of abnormally hot weather, often defined with reference to a relative __temperature threshold__, lasting from __two days to months__. Heatwaves and warm spells have various and, in some cases, overlapping definitions.\"*\n",
    "\n",
    "Note that the definition includes not only the *amplitude* of the temperature fluctuations, but also the *duration*. Regarding amplitudes, it is natural to begin with an absolute threshold, which will identify heat waves in the warmest season; yet the definition does mention *abnormally hot* and mentions *warm spells*, highlighting that it will also be (in a second step) interesting to investigate periods that are warmer than expected, eg in the cold season. While less impactful to humans, these may matter for ecosystems. \n",
    "\n",
    "We propose below functions and instructions to help you write a Python function that go through a time series of temperature (365-length array of daily mean temperature at a specific location for example) and returns the number of heatwave days in a year, first according to an arbitrary threshold that you will specify. We first focus only on the threshold, not the number of consecutive days."
   ]
  },
  {
   "cell_type": "markdown",
   "id": "d4f1b726-54a4-47a0-8430-3a486a60a0fc",
   "metadata": {},
   "source": [
    "You are given a temperature array with hourly frequency, we first need to choose a relevant specific indicator representing well the information we need about the daily distribution of temperature, in order to specify what is a \"hot weather\". Would you pick the max ? the mean ? When identifying events of intense heat from timeseries with hourly resolution, on one hand, and with daily resolution, on the other hand, do we obtain the same results? Should we use the same thresholds?  "
   ]
  },
  {
   "cell_type": "markdown",
   "id": "873530cd-24d1-4053-b0e5-3a159038cf45",
   "metadata": {},
   "source": [
    "### From a timeseries with hourly resolution, identify daily mean and daily max temperatures"
   ]
  },
  {
   "cell_type": "markdown",
   "id": "90619605-4d7f-420f-92c1-3ab80e5d013a",
   "metadata": {},
   "source": [
    "There are several ways to code this. Below we first show how this can be carried out with methods included in the pandas package, for efficiency. (This can be taken as an invitation to take some time to read and learn about coding, now or later.) It is however not expected that you learn about specific pyhton packages, this is not the purpose, so we then return to manipulation of standard numerical arrays."
   ]
  },
  {
   "cell_type": "code",
   "execution_count": null,
   "id": "fe878962-b03d-422f-8a13-fa4abc15c7b9",
   "metadata": {},
   "outputs": [],
   "source": [
    "SSTmean = tsirh_df.groupby(pd.Grouper(freq='1D')).mean()       ### Group dataframe values with daily frequency, then take the mean\n",
    "SSTmax  = tsirh_df.groupby(pd.Grouper(freq='1D')).max()        ### Group dataframe values with daily frequency, then take the max"
   ]
  },
  {
   "cell_type": "code",
   "execution_count": null,
   "id": "72022bcb-0b54-483f-9b3e-9a9ba4d5b03d",
   "metadata": {},
   "outputs": [],
   "source": [
    "dts = dt.datetime(2015,1,1); dte = dt.datetime(2015,12,31)      # 's' for start, 'e' for end"
   ]
  },
  {
   "cell_type": "code",
   "execution_count": null,
   "id": "a83bd9b3-a5b0-41c8-b54b-01db5dd108f4",
   "metadata": {},
   "outputs": [],
   "source": [
    "ax1 = SSTmean[dts:dte].plot(figsize=(15,7),color='royalblue')\n",
    "SSTmax[dts:dte].plot(ax=ax1,color='firebrick')\n",
    "plt.title(f'Timeseries of daily mean and of daily max temperatures at SIRTA from {dts} tp {dte}')\n",
    "plt.grid()\n",
    "plt.show()"
   ]
  },
  {
   "cell_type": "markdown",
   "id": "0f263fbc-c698-4db3-9e59-ff33d393a732",
   "metadata": {},
   "source": [
    "Now we introduce a fuinction to **count the number of days above a given temperature threshold**.    \n",
    "\n",
    "From here, we return to manipulating standard arrays, which may make coding more straightforward, though less compact. The function has been coded assuming inputs that are simple arrays (not pandas DataFrames), so we need to provide, as inputs, the temperature values as arrays. This is obtained from a DataFrame using 'df['var'].values', where df is the DataFrame, and var is the named column. A function to identify the daily mean and max temperatures (as above but from standard arrays) is also provided."
   ]
  },
  {
   "cell_type": "code",
   "execution_count": null,
   "id": "aceae1e2-293d-4d53-8d89-26b740bf27e6",
   "metadata": {},
   "outputs": [],
   "source": [
    "### A function to count the number of daily values above a threshold\n",
    "def nb_heatwaves_simple(tas_array, threshold):\n",
    "    \"\"\"\n",
    "    Parameters:\n",
    "    tas_array (list or array-like): The array of daily values\n",
    "    threshold (float or int): The threshold value to compare against.\n",
    "\n",
    "    Returns:\n",
    "    int: The count of values greater than the threshold.\n",
    "    \"\"\"\n",
    "    nb_hw_d = 0\n",
    "    for value in tas_array:\n",
    "        if value > threshold:\n",
    "            nb_hw_d += 1\n",
    "    return nb_hw_d\n",
    "\n",
    "### A function to count the number of values over a given threshold, but using arrays as inputs\n",
    "### This function will be useful later in the notebook; it is somewhat redundant relative to instructions \n",
    "### carried out above that use the pandas capabilities\n",
    "def hrly_to_dly(hourly_temperatures, ind, yr):\n",
    "    \"\"\"\n",
    "    Counts the number of values in tas_array that are greater than the given threshold.\n",
    "\n",
    "    Parameters:\n",
    "    hourly_temperatures (list or array-like): array of hourly tas values.\n",
    "    ind (string): indicator chosen, \"max\" or \"mean\"\n",
    "\n",
    "    Returns:\n",
    "    tasd_array: array of daily tas values for the selected indicator\n",
    "    \"\"\"\n",
    "    hours_per_day = 24\n",
    "    \n",
    "    bisext = 1\n",
    "    if yr%4:\n",
    "        bisext = 0\n",
    "    \n",
    "    if ind == \"mean\":\n",
    "        daily_mean_temperatures = []\n",
    "        \n",
    "        # Loop through each day\n",
    "        for day in range(365+bisext):\n",
    "            # Calculate the start and end index for the current day's temperatures\n",
    "            start_index = day * hours_per_day\n",
    "            end_index = start_index + hours_per_day\n",
    "            # Get the temperatures for the current day\n",
    "            daily_temperatures = hourly_temperatures[start_index:end_index]\n",
    "            # Calculate the mean temperature for the current day\n",
    "            daily_mean_temperature = sum(daily_temperatures) / hours_per_day\n",
    "            daily_mean_temperatures.append(daily_mean_temperature)\n",
    "        return daily_mean_temperatures\n",
    "    elif ind == \"max\":\n",
    "        daily_max_temperatures = []\n",
    "        \n",
    "        # Loop through each day\n",
    "        for day in range(365):\n",
    "            # Calculate the start and end index for the current day's temperatures\n",
    "            start_index = day * hours_per_day\n",
    "            end_index = start_index + hours_per_day\n",
    "            # Get the temperatures for the current day\n",
    "            daily_temperatures = hourly_temperatures[start_index:end_index]\n",
    "            # Calculate the max temperature for the current day\n",
    "            daily_max_temperature = np.max(daily_temperatures)\n",
    "            daily_max_temperatures.append(daily_max_temperature)\n",
    "        return daily_max_temperatures"
   ]
  },
  {
   "cell_type": "markdown",
   "id": "b5ee4b4b-30cb-41d8-91ea-5f87c9f8e369",
   "metadata": {},
   "source": [
    "Let us apply these on the measurements from SIRTA and count days above a given threshold, then investigate the duration of hot events. What threshold would seem relevant to you ?\n"
   ]
  },
  {
   "cell_type": "code",
   "execution_count": null,
   "id": "35cfde82-d0fc-44a5-ba21-bd422491ec5a",
   "metadata": {},
   "outputs": [],
   "source": [
    "nb_mean30 = nb_heatwaves_simple(SSTmean['ta_regionale'][dts:dte].values, 30)\n",
    "nb_max30 = nb_heatwaves_simple(SSTmax['ta_regionale'][dts:dte].values, 30)\n",
    "\n",
    "nb_mean25 = nb_heatwaves_simple(SSTmean['ta_regionale'][dts:dte].values, 25)\n",
    "nb_max25 = nb_heatwaves_simple(SSTmax['ta_regionale'][dts:dte].values, 25)\n",
    "\n",
    "print(f\"For the period from {dts} to {dte}\")\n",
    "print(f\"  For mean temperature and a threshold at 30°C : {nb_mean30} days\")\n",
    "print(f\"  For max temperature and a threshold at 30°C : {nb_max30} days\")\n",
    "print(f\"  For mean temperature and a threshold at 25°C : {nb_mean25} days\")\n",
    "print(f\"  For max temperature and a threshold at 25°C : {nb_max25} days\")"
   ]
  },
  {
   "cell_type": "markdown",
   "id": "eed69426-5772-48be-8210-9351dd4306d4",
   "metadata": {},
   "source": [
    "Let us now go further to identify the \"heatwave events\" and take duration into account, ie identify the events overpassing a certain threshold *for several days*."
   ]
  },
  {
   "cell_type": "code",
   "execution_count": null,
   "id": "7c8bbeca-39d5-48e7-8a5e-35d17a3ad04b",
   "metadata": {},
   "outputs": [],
   "source": [
    "def detect_heatwaves(tas_array, threshold, nb_days):\n",
    "    \"\"\"\n",
    "    Detect heatwave events in the daily temperature array.\n",
    "\n",
    "    Parameters:\n",
    "    tas_array (list or array-like): The array of daily temperatures.\n",
    "    threshold (float or int): The temperature threshold for a heatwave.\n",
    "    nb_days (int): The minimum number of consecutive days for an event to be considered a heatwave.\n",
    "\n",
    "    Returns:\n",
    "    list: A list of 0s and 1s where 1 indicates a day that is part of a heatwave event.\n",
    "    \"\"\"\n",
    "    heatwave_events = [0] * len(tas_array)\n",
    "    consecutive_days = 0\n",
    "\n",
    "    for i in range(len(tas_array)):\n",
    "        if tas_array[i] > threshold:\n",
    "            consecutive_days += 1\n",
    "        else:\n",
    "            if consecutive_days >= nb_days:\n",
    "                for j in range(i - consecutive_days, i):\n",
    "                    heatwave_events[j] = 1\n",
    "            consecutive_days = 0\n",
    "\n",
    "    # Check at the end of the array\n",
    "    if consecutive_days >= nb_days:\n",
    "        for j in range(len(tas_array) - consecutive_days, len(tas_array)):\n",
    "            heatwave_events[j] = 1\n",
    "\n",
    "    return heatwave_events"
   ]
  },
  {
   "cell_type": "code",
   "execution_count": null,
   "id": "2a2eac41-f88c-4c1d-8a0b-9301e34a4a94",
   "metadata": {},
   "outputs": [],
   "source": [
    "thresh = 30.0\n",
    "N = 3\n",
    "\n",
    "dates = SSTmax.index\n",
    "hwevents_max = detect_heatwaves(SSTmax['ta_regionale'].values, thresh, N)\n",
    "print(f\" Number of days belonging to a heatwave event for the parameters ({thresh}°C, {N} days) : {sum(hwevents_max)} \")\n",
    "plt.plot(dates, hwevents_max,color='cornflowerblue')\n",
    "plt.show()"
   ]
  },
  {
   "cell_type": "markdown",
   "id": "3956ecdc-7bdc-489e-a1b8-7034c253e90d",
   "metadata": {},
   "source": [
    "Once the days above a threshold have been identified, it is more illustrative to plot it with the timeseries of temperature and with the indication of the threshold. This is done below. "
   ]
  },
  {
   "cell_type": "code",
   "execution_count": null,
   "id": "59894454-8042-4183-977f-36e3245609ff",
   "metadata": {},
   "outputs": [],
   "source": [
    "# Création de la figure et de l'axe\n",
    "fig, ax = plt.subplots(figsize=(10, 6))\n",
    "\n",
    "# Tracé des valeurs SSTmax\n",
    "ax.plot(dates, SSTmax, label='Maximum journalier',color='cornflowerblue')\n",
    "\n",
    "# Ajout des zones grisées pour les jours avec événements (hwevents_max == 1)\n",
    "for i, event in enumerate(hwevents_max):\n",
    "    if event == 1:\n",
    "        ax.axvspan(dates[i], dates[i] + pd.Timedelta(days=1), color='gray', alpha=0.5)\n",
    "ax.axhline(y=thresh, color='red', linestyle='--', label=f'Threshold ({thresh}°C)')\n",
    "# Ajout des labels et de la légende\n",
    "ax.set_xlabel('Date')\n",
    "ax.set_ylabel('Maximums journaliers de température')\n",
    "ax.set_title('SSTmax avec événements de chaleur')\n",
    "ax.legend()\n",
    "\n",
    "# Affichage du graphique\n",
    "plt.show()"
   ]
  },
  {
   "cell_type": "markdown",
   "id": "6a601693-5086-4fc4-bfd1-fc22d17c3b37",
   "metadata": {},
   "source": [
    "**A suggestion**: another possibile quantity to investigate is how low the temperatures reach at night. "
   ]
  },
  {
   "cell_type": "markdown",
   "id": "afc1b136-0c15-4732-b332-079cc8ba3c7e",
   "metadata": {},
   "source": [
    "### Absolute or relative threshold? "
   ]
  },
  {
   "cell_type": "markdown",
   "id": "da74e026-60e2-476b-9afe-08e3690341ff",
   "metadata": {},
   "source": [
    "\n",
    "In the IPCC definition, this threshold relates to the \"normal\" temperature. How would you estimate this threshold ? What does it imply ?\n",
    "We will come back to these questions in the section *'to go further'* below. "
   ]
  },
  {
   "cell_type": "markdown",
   "id": "f79a6bde-88db-4ce1-9918-5ec4467d4975",
   "metadata": {},
   "source": [
    "### EVOLUTION IN TIME  \n",
    "\n",
    "In the above we have explored two timeseries of historical temperature measurements and set up a few functions as starting points for their investigation. Below we propose to use these functions to investigate the evolution in time of heat waves, first in the historical timeseries, and then in two timeseries from climate projections. "
   ]
  },
  {
   "cell_type": "markdown",
   "id": "6f64785a-c480-4c64-848b-71e9a3e9645a",
   "metadata": {},
   "source": [
    "#### In historical timeseries"
   ]
  },
  {
   "cell_type": "code",
   "execution_count": null,
   "id": "6653b8c6-c9ee-461d-95fd-2d80bd366585",
   "metadata": {},
   "outputs": [],
   "source": [
    "def every_yr_hw(tdf,start_date, end_date, thresh, N,varh='ta_regionale',colh='green'):\n",
    "    \"\"\" Count the number of days when temperature exceeds a given threshold 'thresh', for 'N' consecutive days\n",
    "    in the period going from start_date to end_date\n",
    "    \"\"\"\n",
    "    # Génération du DatetimeIndex\n",
    "    date_range = pd.date_range(start=start_date, end=end_date, freq='YS') \n",
    "    nbhw_dys = []\n",
    "    for i in range(len(date_range)-1):\n",
    "        start_time = date_range[i]\n",
    "        end_time = date_range[i+1]\n",
    "        tdflim = tdf[(tdf.index >= start_time) & (tdf.index < end_time)]   #  lim: limited to the period selected\n",
    "        tas = tdflim[varh].values\n",
    "        Tmax = hrly_to_dly(tas, \"max\", yr = date_range[i].year)\n",
    "        hwevents_max = detect_heatwaves(Tmax, thresh, N)\n",
    "        nbhw_dys.append(sum(hwevents_max))\n",
    "\n",
    "    plt.plot(date_range[:-1], nbhw_dys,color=colh)\n",
    "    plt.title(f\"Number of heatwave days per year for a threshold of {thresh}°C overpassed for {N} consecutive days, for the period {start_date.year}-{end_date.year}\")\n",
    "    plt.show()\n",
    "    return date_range,nbhw_dys"
   ]
  },
  {
   "cell_type": "code",
   "execution_count": null,
   "id": "39c2a429-bd6e-41c8-8de7-5b5c7e381015",
   "metadata": {},
   "outputs": [],
   "source": [
    "thresh = 25\n",
    "N = 3\n",
    "\n",
    "# Définition des dates de début et de fin\n",
    "start_date = pd.to_datetime(\"2006-01-01 00:00:00\")\n",
    "end_date = pd.to_datetime(\"2023-01-01 00:00:00\")\n",
    "every_yr_hw(tsirh_df,start_date, end_date, thresh, N,colh='cornflowerblue')"
   ]
  },
  {
   "cell_type": "markdown",
   "id": "8c5b37f6-e2be-4f72-9e56-a0efc1000930",
   "metadata": {},
   "source": [
    "### In Projections for a changing climate\n",
    "\n",
    "Below we propose timeseries for Paris and Mumbai from a climate projection of CMIP5 (*). The purpose is to make start exploring, and to outline relevant questions that can be investigated with such data. \n",
    "\n",
    ">The **limitations of the data** should be kept in mind: these are only two locations, from two models, for ***one scenario*** of emissions, RCP8.5. This scenario corresponds to the largest emissions considered in CMIP5, resulting in a forcing of approximately 8.5 W/m2 by 2100. The purpose of these scenarios is to explore the range of possible outcomes. This is not a *'forecast'* or a *'prediction'*. \n",
    "\n",
    ">The scenario RCP8.5 leads to very large warming by 2100. It therefore allows to investigate how climate may have changed when the global mean surface temperature has increased by 1.5°C, by 2°C or by 3°C relative to pre-industrial levels. (For each warming level, a time period would need to be defined based on the evolution of the Global Mean Surface Temperature; eg for the IPSL model, a 2°C global warming level is reached approximately between 2040 and 2070. Statistics from those decades can be used to evaluate climate changes in a +2°C world.) \n",
    "\n",
    "Timeseries from two climate models (**) are retrieved (among about twenty to thirty models), for illustration:  \n",
    "- the model from Institut Pierre Simon Laplace (https://www.ipsl.fr/), the French Institute for Climate Science around Paris,\n",
    "- the model from the Hadley Center in the UK (Climate Center attached to the UK Met Office, https://www.metoffice.gov.uk/weather/climate/met-office-hadley-centre/index)\n",
    "\n",
    "By defaul, below, the timeseries from the IPSL model are investigated. In the *data/* directory, you will also find the files from the Haldey Center's climate model, with the subscript '*_Had.csv'. Investigating the **level of agreement between the two models** allows a first peek into *model uncertainty* in climate projections. \n",
    "\n",
    "(*) Climate Model Intercomparison Project 5: simulations coordinated by the research community in preparattion for the IPCC's 5th assessment report, which came out in 2013. More recent simulations exist (CMIP6), but for pedagogical purposes the simulations from CMIP5 are sufficient.  \n",
    "\n",
    "(**) The data was downloaded from the ISIMIP website, with the *configure download* tool. (\"tas_day_IPSL-CM5A-LR_rcp85_r1i1p1_EWEMBI\" and \"tas_day_HadGEM2-ES_rcp85_r1i1p1_EWEMBI\") "
   ]
  },
  {
   "cell_type": "markdown",
   "id": "2f597d14-3670-46dc-b5f3-d496f6b65f9f",
   "metadata": {},
   "source": [
    "#### For Paris"
   ]
  },
  {
   "cell_type": "code",
   "execution_count": null,
   "id": "443a4edd-0d40-440a-8d04-da140098a3cd",
   "metadata": {},
   "outputs": [],
   "source": [
    "# Read the CSV file\n",
    "file_path = 'data/paris_2006_2100_rcp85.csv'\n",
    "tparp_df = pd.read_csv(file_path, delimiter = \",\", index_col=0)\n",
    "tparp_df.index = pd.to_datetime(tparp_df.index)\n",
    "tparp_df = tparp_df - 273.15     # Model temperature was output in degrees K\n",
    "\n",
    "# Dates of period to plot - by default, whole period\n",
    "dts = dt.datetime(2006,1,1); dte = dt.datetime(2020,1,1)\n",
    "\n",
    "# Plot the projected temperature\n",
    "ax2 = tparp_df.plot(figsize=(15, 7),color=pcol)               # By default, for the whole period available\n",
    "tparp_df.resample('YE').mean().plot(ax=ax2,color=pcom,linewidth=3)\n",
    "#ax2 = tparp_df[dts:dte].plot(figsize=(15, 7),color='mediumblue')     # For a specific period, from dts to dte\n",
    "#tparp_df[dts:dte].resample('YE').mean().plot(ax=ax2,color='aqua',linewidth=3)\n",
    "plt.xlabel('Time')\n",
    "plt.ylabel('Projected temperature (°C)')\n",
    "plt.title('Daily IPSL temperature projection for RCP8.5, Paris')\n",
    "plt.grid()\n",
    "plt.show()"
   ]
  },
  {
   "cell_type": "code",
   "execution_count": null,
   "id": "bfcc19c8-8074-4f6f-9548-5b39d37b6d44",
   "metadata": {},
   "outputs": [],
   "source": [
    "def every_yr_hw_proj(tdf,start_date, end_date, thresh, N,varh='temperature_K',colh='green'):\n",
    "    # Génération du DatetimeIndex\n",
    "    date_range = pd.date_range(start=start_date, end=end_date, freq='YS') \n",
    "\n",
    "    nbhw_dys = []\n",
    "\n",
    "    for i in range(len(date_range)-1):\n",
    "        start_time = date_range[i]\n",
    "        end_time = date_range[i+1]\n",
    "        tdflim = tdf[(tdf.index >= start_time) & (tdf.index < end_time)]\n",
    "        tas = tdflim[varh].values   #  - 273.15\n",
    "        hwevents_max = detect_heatwaves(tas, thresh, N)\n",
    "        nbhw_dys.append(sum(hwevents_max))\n",
    "\n",
    "    plt.plot(date_range[:-1], nbhw_dys,color=colh)\n",
    "    plt.title(f\"Number of heatwave days per year for a threshold of {thresh}°C overpassed for {N} consecutive days, for the period {start_date}/{end_date}\")\n",
    "    plt.grid()\n",
    "    plt.show()\n",
    "    return date_range,nbhw_dys"
   ]
  },
  {
   "cell_type": "code",
   "execution_count": null,
   "id": "7755d8b7-f1ec-4f17-9bc2-3076fa79a509",
   "metadata": {},
   "outputs": [],
   "source": [
    "thresh = 30\n",
    "N = 3\n",
    "\n",
    "# Start and end dates\n",
    "start_date = \"2006-01-01\"\n",
    "end_date = \"2100-01-01\"\n",
    "dtparp,hwparp = every_yr_hw_proj(tparp_df,start_date, end_date, thresh, N,colh=pcol)"
   ]
  },
  {
   "cell_type": "markdown",
   "id": "87ace5da-e3bc-4e81-8045-f880036efab5",
   "metadata": {},
   "source": [
    "#### For Mumbai"
   ]
  },
  {
   "cell_type": "code",
   "execution_count": null,
   "id": "9647e6e5-1918-4be3-8788-a701a5ce3b78",
   "metadata": {},
   "outputs": [],
   "source": [
    "# Lire le fichier CSV\n",
    "file_path = 'data/mumbai_2006_2100_rcp85_Had.csv'\n",
    "tmump_df = pd.read_csv(file_path, delimiter = \",\", index_col=0)\n",
    "tmump_df.index = pd.to_datetime(tmump_df.index)\n",
    "tmump_df = tmump_df - 273.15     # Model temperature was output in degrees K\n",
    "\n",
    "# Dates of period to plot - by default, whole period\n",
    "dts = dt.datetime(2006,1,1); dte = dt.datetime(2020,1,1)\n",
    "\n",
    "# Plot the projected temperature\n",
    "ax2 = tmump_df.plot(figsize=(15, 7),color=mcol)               # By default, for the whole period available\n",
    "tmump_df.resample('YE').mean().plot(ax=ax2,color=mcom,linewidth=3)\n",
    "plt.xlabel('Time')\n",
    "plt.ylabel('Projected temperature (°C)')\n",
    "plt.title('Daily IPSL temperature projection for RCP8.5, Mumbai')\n",
    "plt.grid()\n",
    "plt.show()"
   ]
  },
  {
   "cell_type": "code",
   "execution_count": null,
   "id": "7affd372-afa9-456a-85a6-5fd3a17c2476",
   "metadata": {},
   "outputs": [],
   "source": [
    "thresh = 30\n",
    "N = 3\n",
    "\n",
    "# Définition des dates de début et de fin\n",
    "start_date = \"2006-01-01\"\n",
    "end_date = \"2100-01-01\"\n",
    "dtmump,hwmump = every_yr_hw_proj(tmump_df,start_date, end_date, thresh, N,colh=mcol)"
   ]
  },
  {
   "cell_type": "markdown",
   "id": "7a9b4082-1d42-4b1f-b037-0a5b5e045362",
   "metadata": {},
   "source": [
    "## To Go further\n",
    "\n",
    "As suggested above, a single, or absolute, threshold is not necessarily the most relevant indicator: it only focuses on events of intense heat, and the appropriate definition of *'intense heat'* will vary geographically. How can we adapt the calculation of the number of heatwave days per year, taking into account what has been 'normal temperatures' for a given location (ie *the climatology*)?\n",
    "\n",
    "We suggest that you establish thresholds that are location- and month-dependent. Historical data for a reference period serves to identify what is *'normal'*. Quantiles can be used to identify extremes.  \n",
    "\n",
    "We suggest to use the method *quantile* that can be applied to a pandas DataFrame. It is illustrated below for historical temperatures in Paris. "
   ]
  },
  {
   "cell_type": "code",
   "execution_count": null,
   "id": "4240ff3b-0ced-40a8-979e-0593fcc37384",
   "metadata": {},
   "outputs": [],
   "source": [
    "print((tparh_df.quantile(0.25),tparh_df.quantile(0.5),tparh_df.quantile(0.75))) \n",
    "tparh_df.describe()"
   ]
  },
  {
   "cell_type": "code",
   "execution_count": null,
   "id": "bab45737",
   "metadata": {},
   "outputs": [],
   "source": [
    "# Calcul du 95e percentile \n",
    "percentile_95 = tparh_df.quantile(0.95)\n",
    "\n",
    "# Affichage du résultat\n",
    "print(f\"Le 95e percentile de la température régionale est: {percentile_95.values}°C\")"
   ]
  },
  {
   "cell_type": "markdown",
   "id": "4b2d7245-cebf-448c-9c31-830a610a768d",
   "metadata": {},
   "source": [
    "If you take a certain percentile as a threshold during the whole year, you only take into account abnormally hot days for the whole year, but not for a given season. For example, winter days will never experience \"hot days\" according to this definition. But abnormally hot days compared to cold temperature, even if the absolute value stays low, can have significant impact on plant development. How would you take into account this seasonal dependence ?"
   ]
  },
  {
   "cell_type": "code",
   "execution_count": null,
   "id": "705504dc",
   "metadata": {},
   "outputs": [],
   "source": [
    "def calculate_monthly_percentile(df,nperc=95,region=\"region\",colh='green'):\n",
    "    \"\"\" Calculate the nth percentile (with n = nperc) by month for a given dataframe\n",
    "    (Initially written only for the 95th percentile)\n",
    "    \"\"\"\n",
    "    # Create a dolumn 'month' in the DataFrame\n",
    "    df['month'] = df.index.month\n",
    "\n",
    "    # Calculate the nperc percentile for each month\n",
    "    monthly_percentile_95 = df.groupby('month')['ta_regionale'].quantile(nperc/100) \n",
    "    #print(monthly_percentile_95)\n",
    "    # Prepare figure of the nperc percentile by month\n",
    "    plt.figure(figsize=(10, 6))\n",
    "    monthly_percentile_95.plot(marker='o',color=colh)\n",
    "    plt.title(f'{nperc}th Percentile of Temperature for {region} by month')\n",
    "    plt.xlabel('Month')\n",
    "    plt.ylabel('Temperature, °C')\n",
    "    plt.xticks(range(1,13))\n",
    "    plt.grid(True)\n",
    "    plt.show()\n",
    "\n",
    "    return monthly_percentile_95\n",
    "\n",
    "# Appeler la fonction et obtenir les résultats\n",
    "monthly_percentile_95P = calculate_monthly_percentile(tparh_df, 95, region = \"Paris\",colh=pcol)"
   ]
  },
  {
   "cell_type": "code",
   "execution_count": null,
   "id": "b9034847",
   "metadata": {},
   "outputs": [],
   "source": [
    "# Appeler la fonction et obtenir les résultats\n",
    "monthly_percentile_95M = calculate_monthly_percentile(tmumh_df, nperc=95, region = \"Mumbai\",colh=mcol)"
   ]
  },
  {
   "cell_type": "code",
   "execution_count": null,
   "id": "79ef759d",
   "metadata": {},
   "outputs": [],
   "source": [
    "def detect_heatwaves_movingthresh(projdf, quant, nb_days):\n",
    "    \"\"\"\n",
    "    Detect heatwave events in the daily temperature array.\n",
    "\n",
    "    Parameters:\n",
    "    projdf (list or array-like): df of projected temperatures\n",
    "    quant (float or int): df of moving thresholds\n",
    "    nb_days (int): The minimum number of consecutive days for an event to be considered a heatwave.\n",
    "    Returns:\n",
    "    list: A list of 0s and 1s where 1 indicates a day that is part of a heatwave event.\n",
    "    \"\"\"\n",
    "    heatwave_events = [0] * len(projdf)\n",
    "    consecutive_days = 0\n",
    "\n",
    "    for i, (date, row) in enumerate(projdf.iterrows()):\n",
    "        if row['temperature_K'] > quant.loc[row[\"months\"]] :\n",
    "            consecutive_days += 1\n",
    "        else:\n",
    "            if consecutive_days >= nb_days:\n",
    "                for j in range(i - consecutive_days, i):\n",
    "                    heatwave_events[j] = 1\n",
    "            consecutive_days = 0\n",
    "\n",
    "    # Check at the end of the array\n",
    "    if consecutive_days >= nb_days:\n",
    "        for j in range(len(projdf) - consecutive_days, len(projdf)):\n",
    "            heatwave_events[j] = 1\n",
    "\n",
    "    return heatwave_events\n",
    "\n",
    "\n",
    "def every_yr_hw_moving(start_date, end_date, projdf, quant, N,colh='green'):\n",
    "    # Génération du DatetimeIndex\n",
    "    date_range = pd.date_range(start=start_date, end=end_date, freq='YS') \n",
    "\n",
    "    nbhw_dys = []\n",
    "\n",
    "    for i in range(len(date_range)-1):\n",
    "        start_time = date_range[i]\n",
    "        end_time = date_range[i+1]\n",
    "        filtered_dfs = projdf[(projdf.index >= start_time) & (projdf.index < end_time)]\n",
    "        hwevents_max = detect_heatwaves_movingthresh(filtered_dfs, quant, N)\n",
    "        nbhw_dys.append(sum(hwevents_max))\n",
    "\n",
    "    plt.plot(date_range[:-1], nbhw_dys,color=colh)\n",
    "    plt.title(f\"Number of heatwave days per year for a threshold of 95th percentile overpassed for {N} consecutive days, for the period {start_date}-{end_date}\")\n",
    "    plt.grid()\n",
    "    plt.show()\n",
    "    return None\n"
   ]
  },
  {
   "cell_type": "code",
   "execution_count": null,
   "id": "30f98425",
   "metadata": {},
   "outputs": [],
   "source": [
    "tparp_df[\"months\"] = tparp_df.index.month\n",
    "monthly_percentile_95P.columns = [\"Temperature_K\"]"
   ]
  },
  {
   "cell_type": "code",
   "execution_count": null,
   "id": "1c5d4ad0",
   "metadata": {},
   "outputs": [],
   "source": [
    "quant = monthly_percentile_95P\n",
    "N = 3\n",
    "\n",
    "# Définition des dates de début et de fin\n",
    "start_date = \"2006-01-01\"\n",
    "end_date = \"2100-01-01\"\n",
    "every_yr_hw_moving(start_date, end_date, projdf = tparp_df, quant=quant, N=N, colh=pcol) "
   ]
  },
  {
   "cell_type": "code",
   "execution_count": null,
   "id": "98b495da",
   "metadata": {},
   "outputs": [],
   "source": [
    "tmump_df[\"months\"] = tmump_df.index.month\n",
    "monthly_percentile_95P.columns = [\"Temperature_K\"]"
   ]
  },
  {
   "cell_type": "code",
   "execution_count": null,
   "id": "d5111c47",
   "metadata": {},
   "outputs": [],
   "source": [
    "quant = monthly_percentile_95M\n",
    "N = 3\n",
    "\n",
    "# Définition des dates de début et de fin\n",
    "start_date = \"2006-01-01\"\n",
    "end_date = \"2100-01-01\"\n",
    "every_yr_hw_moving(start_date, end_date, projdf = tmump_df, quant=quant, N=N, colh=mcol) "
   ]
  },
  {
   "cell_type": "code",
   "execution_count": null,
   "id": "aa775877-d317-4a1e-b25d-f29fea2bf487",
   "metadata": {},
   "outputs": [],
   "source": []
  }
 ],
 "metadata": {
  "kernelspec": {
   "display_name": "Python 3 (ipykernel)",
   "language": "python",
   "name": "python3"
  },
  "language_info": {
   "codemirror_mode": {
    "name": "ipython",
    "version": 3
   },
   "file_extension": ".py",
   "mimetype": "text/x-python",
   "name": "python",
   "nbconvert_exporter": "python",
   "pygments_lexer": "ipython3",
   "version": "3.12.4"
  }
 },
 "nbformat": 4,
 "nbformat_minor": 5
}
