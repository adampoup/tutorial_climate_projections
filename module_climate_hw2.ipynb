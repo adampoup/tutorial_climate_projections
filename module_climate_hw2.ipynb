{
 "cells": [
  {
   "cell_type": "markdown",
   "id": "039b9856-079f-4420-bc1f-c9eb507d9b1c",
   "metadata": {},
   "source": [
    "# Climate Projection - Homework 2 : Impacts and exposure, thoughts on vulnerability\n"
   ]
  },
  {
   "cell_type": "markdown",
   "id": "217bf043-d941-4267-b6f2-37a4a975a207",
   "metadata": {},
   "source": [
    "The aim of this homework is to go from the territories where heat extremes increase under\n",
    "climate change (where previous homework left us) to the population exposed and vulnerable\n",
    "to these extremes.\n",
    "\n",
    "To do so, you have access to a number of maps, and the underlying spatial data, pre-\n",
    "formatted to be in the same resolution (0.5◦ * 0.5◦ - beware : the gridcell area vary with\n",
    "latitude...)."
   ]
  },
  {
   "cell_type": "markdown",
   "id": "cdea059e-84b3-4445-8002-47d3334eecc1",
   "metadata": {
    "tags": []
   },
   "source": [
    "## Given material for analysis"
   ]
  },
  {
   "cell_type": "markdown",
   "id": "15e06c3d-7bc5-42e2-ab9a-e521010ec81b",
   "metadata": {},
   "source": [
    "### Install party !"
   ]
  },
  {
   "cell_type": "markdown",
   "id": "45f778dc-21bf-42b3-9fef-b98582cd2820",
   "metadata": {},
   "source": [
    "#### Install/import usefull libraries\n",
    "\n",
    "Before we begin, we must install/import some libraries.\n",
    "\n",
    "!pip install rasterio geopandas matplotlib numpy"
   ]
  },
  {
   "cell_type": "markdown",
   "id": "4ffc7424-4015-4063-8400-b487f99e2025",
   "metadata": {},
   "source": [
    "### Import the installed package"
   ]
  },
  {
   "cell_type": "code",
   "execution_count": null,
   "id": "aadf0f62-fab6-45e3-a299-c6db023783b7",
   "metadata": {},
   "outputs": [],
   "source": [
    "import rasterio\n",
    "from rasterio.plot import show\n",
    "import matplotlib.pyplot as plt\n",
    "import matplotlib.cm as cm\n",
    "import matplotlib.colors as colors\n",
    "import numpy as np\n",
    "from rasterio.transform import xy"
   ]
  },
  {
   "cell_type": "markdown",
   "id": "53a20413-d6b7-4257-8fc3-5aacb1cf266e",
   "metadata": {
    "tags": []
   },
   "source": [
    "## Some useful functions"
   ]
  },
  {
   "cell_type": "markdown",
   "id": "8cdc997c-b5cd-4886-a452-5523c4716643",
   "metadata": {},
   "source": [
    "Feel free to make the following functions your own and use them in the rest of the assignment."
   ]
  },
  {
   "cell_type": "markdown",
   "id": "0965676b-2753-46c9-9c78-046bb674a343",
   "metadata": {
    "tags": []
   },
   "source": [
    "### Limit to a certain region - to be recoded"
   ]
  },
  {
   "cell_type": "markdown",
   "id": "9f5d2949-af9f-4e9e-994e-eb1303021b7c",
   "metadata": {
    "tags": []
   },
   "source": [
    "### Threshold function\n",
    "Let us now define a threshold function that crops a map given a certain threshold and display only the raster points below, or over this threshold. This function crops any map based on hdi_data. Feel free to re-code it based on other initial data."
   ]
  },
  {
   "cell_type": "code",
   "execution_count": null,
   "id": "8768961a-d7f3-449a-887a-21cee6417055",
   "metadata": {},
   "outputs": [],
   "source": [
    "def plot_with_threshold(data_to_crop, hdi_data, threshold, sign):\n",
    "    \"\"\"\n",
    "    sign is a str 'sup' or 'inf'\n",
    "    \"\"\"\n",
    "    masked_data = np.copy(data_to_crop)\n",
    "    # Utilisation de np.where pour identifier et remplacer les valeurs supérieures au seuil\n",
    "    if sign == 'inf':\n",
    "        masked_data[np.where(hdi_data > threshold)] = np.nan\n",
    "    elif sign == 'sup':\n",
    "        masked_data[np.where(hdi_data < threshold)] = np.nan\n",
    "    else:\n",
    "        print(\"sign value must be 'inf' or 'sup'\")\n",
    "    return masked_data\n"
   ]
  },
  {
   "cell_type": "code",
   "execution_count": null,
   "id": "325908e7-be2c-43a9-8ce0-55125399e93f",
   "metadata": {},
   "outputs": [],
   "source": [
    "import cartopy\n",
    "import cartopy.crs as ccrs\n",
    "\n",
    "def mapplot(dataset, lons, lats, titl = \"Fill a Title\",labl = \"Fill a label\", cmaph = 'RdYlGn_r', vmin = -1, vmax = -1, maskOcean = True, nlev = 21):\n",
    "    if vmax < 0 : #check if assigned\n",
    "        vmin = np.nanmin(dataset)\n",
    "        vmax = np.nanmax(dataset)\n",
    "    fig = plt.figure(figsize = (18,9))\n",
    "    ax = plt.axes(projection=ccrs.PlateCarree(central_longitude=0.))\n",
    "    #plt.contourf(lons, lats, dataset, nlev,transform=ccrs.PlateCarree(),cmap=cmaph, vmin = vmin, vmax = vmax)\n",
    "    plt.contourf(lons, lats, dataset, transform=ccrs.PlateCarree(),cmap=cmaph, levels = np.arange(vmin,vmax,(vmax-vmin)/nlev))\n",
    "    plt.colorbar(label = labl)\n",
    "    if maskOcean:\n",
    "        ax.add_feature(cartopy.feature.OCEAN, zorder=100, edgecolor='k')\n",
    "    ax.coastlines()\n",
    "    plt.title(titl)\n",
    "    plt.show()                                        \n",
    "        "
   ]
  },
  {
   "cell_type": "markdown",
   "id": "e06460a4-b94a-4bb8-8c19-557c8692a8b2",
   "metadata": {},
   "source": [
    "## Visualize heatwaves for different warming levels"
   ]
  },
  {
   "cell_type": "code",
   "execution_count": null,
   "id": "50997560-fdea-44f7-991b-da57322d52a0",
   "metadata": {},
   "outputs": [],
   "source": [
    "# Load the raster files\n",
    "hw1p5_path = 'data/wsdiETCCDI_rcp85_90_6_15.tif'\n",
    "hw2p0_path = 'data/wsdiETCCDI_rcp85_90_6_20.tif'\n",
    "hw3p0_path = 'data/wsdiETCCDI_rcp85_90_6_30.tif'\n",
    "with rasterio.open(hw1p5_path) as src:\n",
    "    hw1p5_data = src.read(1)  # read the first band\n",
    "    hw1p5_affine = src.transform\n",
    "with rasterio.open(hw2p0_path) as src:\n",
    "    hw2p0_data = src.read(1)  # read the first band\n",
    "with rasterio.open(hw3p0_path) as src:\n",
    "    hw3p0_data = src.read(1)  # read the first band\n",
    "    # Get the dimensions of the raster\n",
    "    rows, cols = hw3p0_data.shape\n",
    "\n",
    "    # Create lists to hold the coordinates\n",
    "    lons = []\n",
    "    lats = []\n",
    "\n",
    "    # Loop through each pixel in the raster\n",
    "    for row in range(rows):\n",
    "        lon, lat = xy(hw1p5_affine, row, 1)\n",
    "        lats.append(lat)\n",
    "    for col in range(cols):\n",
    "        lon, lat = xy(hw1p5_affine, 1, col)\n",
    "        lons.append(lon)"
   ]
  },
  {
   "cell_type": "code",
   "execution_count": null,
   "id": "e9517b5e",
   "metadata": {},
   "outputs": [],
   "source": [
    "print(lons)\n",
    "print(lats)"
   ]
  },
  {
   "cell_type": "code",
   "execution_count": null,
   "id": "a418e8f5-3c02-4760-98f7-2f7abb66ee97",
   "metadata": {},
   "outputs": [],
   "source": [
    "\n",
    "mapplot(hw1p5_data, lons, lats, titl = \"Heatwaves days per year for RCP8.5, 1.5°C\", labl = \"# of heatwave days per year (6 consecutive days over 90p)\" )\n",
    "mapplot(hw2p0_data, lons, lats, titl = \"Heatwaves days per year for RCP8.5, 2.0°C\", labl = \"# of heatwave days per year (6 consecutive days over 90p)\" )\n",
    "mapplot(hw3p0_data, lons, lats, titl = \"Heatwaves days per year for RCP8.5, 3.0°C\", labl = \"# of heatwave days per year (6 consecutive days over 90p)\" )"
   ]
  },
  {
   "cell_type": "markdown",
   "id": "66237392-a675-4ceb-a287-15050f4fbd54",
   "metadata": {},
   "source": [
    "## Visualization of the different geodata sets"
   ]
  },
  {
   "cell_type": "markdown",
   "id": "ec687bb1-a6b1-41a7-8b67-b2bd89905d07",
   "metadata": {},
   "source": [
    "The smallest original grid dimension is that of the heatwaves, so we'll translate all the others into this one. You have at your disposal in the data folder all the geographic data with the same dimensions (np.array of size 360\\*720, i.e. cells of size 0.5°\\*0.5°)."
   ]
  },
  {
   "cell_type": "markdown",
   "id": "b4a41238-7146-4e29-9561-89ef85361a1e",
   "metadata": {},
   "source": [
    "### Population density geodataset\n",
    "\n",
    "For the population density, the [SEDAC dataset](https://sedac.ciesin.columbia.edu/data/set/gpw-v4-population-density-rev11/data-download) was used for the year 2020 : Center for International Earth Science Information Network - CIESIN - Columbia University. 2018. Gridded Population of the World, Version 4 (GPWv4): Population Density, Revision 11. Palisades, New York: NASA Socioeconomic Data and Applications Center (SEDAC). https://doi.org/10.7927/H49C6VHW. Accessed 04/24. The data has been resampled too to match the right resolution using, also nearest resampling method.\n"
   ]
  },
  {
   "cell_type": "code",
   "execution_count": null,
   "id": "9d897abc-3ad8-4a67-9d9b-5f6293e1f1d9",
   "metadata": {},
   "outputs": [],
   "source": [
    "# Load the raster file\n",
    "poprs_path = 'data/pop_resampled.tif'\n",
    "with rasterio.open(poprs_path) as src:\n",
    "    poprs_data = src.read(1)  # read the sixth band\n",
    "    poprs_affine = src.transform# Load the raster file\n",
    "    # Get the dimensions of the raster\n",
    "    rows, cols = poprs_data.shape\n",
    "\n",
    "    # Create lists to hold the coordinates\n",
    "    lons_pop = []\n",
    "    lats_pop = []\n",
    "\n",
    "    # Loop through each pixel in the raster\n",
    "    for row in range(rows):\n",
    "        lon, lat = xy(poprs_affine, row, 1)\n",
    "        lats_pop.append(lat)\n",
    "    for col in range(cols):\n",
    "        lon, lat = xy(poprs_affine, 1, col)\n",
    "        lons_pop.append(lon)\n",
    "\n",
    "poprs_data[np.where(poprs_data <= 0)] = np.nan #Reformat data, map creators used -3.402823e+38 as np.nan"
   ]
  },
  {
   "cell_type": "code",
   "execution_count": null,
   "id": "f1658bd0-0c35-4e4a-9dd0-8f6d127c4bfe",
   "metadata": {},
   "outputs": [],
   "source": [
    "\n",
    "mapplot(np.log(poprs_data), lons_pop, lats_pop, titl = 'Population density Map - log scale', labl = r'log(Population density (#/km$^2$))', cmaph = \"coolwarm\", maskOcean = True)"
   ]
  },
  {
   "cell_type": "code",
   "execution_count": null,
   "id": "f7aa1eca-352f-47c9-8db2-0288268176b6",
   "metadata": {},
   "outputs": [],
   "source": [
    "vminh = 0; vmaxh = 1500; \n",
    "mapplot(poprs_data, lons_pop, lats_pop, titl = 'Population density Map - linear scale', labl = r'Population density (#/km$^2$)', cmaph = \"coolwarm\", maskOcean = True, vmin=vminh, vmax = vmaxh)"
   ]
  },
  {
   "cell_type": "markdown",
   "id": "04dcf7fa-7333-4597-ad8b-eca30ae49041",
   "metadata": {},
   "source": [
    "### HDI geodataset\n",
    "\n",
    "Let us take a look to this HDI geodataset from the [Mosaiks](https://www.mosaiks.org/hdi) project. The informations provided by the authors include : \n",
    "- These are the predictions generated from the machine learning model combining MOSAIKS daytime image and nightlight (NL) features\n",
    "- These predictions are clipped to have values that fall within 0 and 1.\t\t\t\t\n",
    "- These estimates are centered such that the population-weighted average of the 0.01 x 0.01 degree tile HDI estimates matches the ADM1 data from Smits and Permanyer (https://globaldatalab.org/shdi).\n",
    "- Population weights come from the Global Human Settlement Data (GHS-POP) (https://ghsl.jrc.ec.europa.eu/download.php?ds=pop).\n",
    "- Note that we only release estimates where human settlements are known to exist.\n",
    "\n",
    "The initial dataset has a resolution of 0.1 x 0.1 degree, and raster extent of [-180°, 180°, -56°, 74°] and was processed for this notebook to match the other resolution and projection.\n",
    "\n",
    "\n"
   ]
  },
  {
   "cell_type": "code",
   "execution_count": null,
   "id": "38686cfa-2a1e-4c37-9054-ed0916490540",
   "metadata": {},
   "outputs": [],
   "source": [
    "# Load the raster file\n",
    "hdirs_path = 'data/hdi_resamplednear.tif'\n",
    "with rasterio.open(hdirs_path) as src:\n",
    "    hdirs_data = src.read(1)  # read the first band\n",
    "    hdirs_affine = src.transform # Load the raster file\n",
    "    # Get the dimensions of the raster\n",
    "    rows, cols = hdirs_data.shape\n",
    "\n",
    "    # Create lists to hold the coordinates\n",
    "    lons_hdi = []\n",
    "    lats_hdi = []\n",
    "    #lats_hdi = np.flip(np.arange(-89.75, 90, 0.5)).tolist()\n",
    "\n",
    "    # Loop through each pixel in the raster\n",
    "    for row in range(rows):\n",
    "        lon, lat = xy(hdirs_affine, row, 1)\n",
    "        lats_hdi.append(lat)\n",
    "    for col in range(cols):\n",
    "        lon, lat = xy(hdirs_affine, 1, col)\n",
    "        lons_hdi.append(lon)"
   ]
  },
  {
   "cell_type": "markdown",
   "id": "130eb648-8177-4fdd-a66c-3372c4ecbb45",
   "metadata": {},
   "source": [
    "### Cropped HDI map"
   ]
  },
  {
   "cell_type": "code",
   "execution_count": null,
   "id": "0b9752b3-d301-4a0f-a3fe-598671b3a032",
   "metadata": {},
   "outputs": [],
   "source": [
    "mapplot(hdirs_data, lons_hdi, lats_hdi, titl = 'HDI Map', labl = 'HDI', cmaph = 'RdYlGn', maskOcean = False)"
   ]
  },
  {
   "cell_type": "code",
   "execution_count": null,
   "id": "b8c9baeb-0d6c-4718-b98a-e95f141fb2b5",
   "metadata": {},
   "outputs": [],
   "source": [
    "low_hdi_data = plot_with_threshold(hdirs_data, hdirs_data, .5, \"inf\")\n",
    "high_hdi_data = plot_with_threshold(hdirs_data, hdirs_data, .7, \"sup\")"
   ]
  },
  {
   "cell_type": "code",
   "execution_count": null,
   "id": "e1826930-caf9-4bcc-8e8f-a5a31a715536",
   "metadata": {},
   "outputs": [],
   "source": [
    "\n",
    "mapplot(high_hdi_data, lons_hdi, lats_hdi, titl = 'HDI Map, cropped to >.7', labl = 'HDI', cmaph= \"RdYlGn\", vmin = 0, vmax = 1, maskOcean = False)\n",
    "mapplot(low_hdi_data, lons_hdi, lats_hdi, titl = 'HDI Map, cropped to <.5', labl = 'HDI', cmaph= \"RdYlGn\", vmin = 0, vmax = 1, maskOcean = False)"
   ]
  },
  {
   "cell_type": "markdown",
   "id": "8e2d10c2-ce58-499b-ad91-3fd36dd8d179",
   "metadata": {},
   "source": [
    "### GDP per capita geodataset\n",
    "\n",
    "Source : Kummu M, Taka M, Guillaume JHA. Gridded global datasets for Gross Domestic Product and Human Development Index over 1990-2015. Sci Data. 2018 Feb 6;5:180004. doi: 10.1038/sdata.2018.4\n",
    "\n",
    "> \"We present gap-filled multiannual datasets in gridded form for Gross Domestic Product (GDP) [...]. To provide a consistent product over time and space, the sub-national data were only used indirectly, scaling the reported national value and thus, remaining representative of the official statistics. This resulted in annual gridded datasets for GDP per capita (PPP), total GDP (PPP), and HDI, for the whole world at 5 arc-min resolution for the 25-year period of 1990–2015. Additionally, total GDP (PPP) is provided with 30 arc-sec resolution for three time steps (1990, 2000, 2015).\"\n",
    "\n",
    "We then resampled this data product to match the resolution and projection of the other datasets."
   ]
  },
  {
   "cell_type": "code",
   "execution_count": null,
   "id": "4fe8ba04-6f0a-484d-8a78-fc41bc5d76af",
   "metadata": {},
   "outputs": [],
   "source": [
    "# Load the raster file\n",
    "gdpprs_path = 'data/gdp2015_resampled.tif'\n",
    "with rasterio.open(gdpprs_path) as src:\n",
    "    gdpprs_data = src.read(26)  # read the 26th band, where the 2015 data is situated\n",
    "    gdpprs_affine = src.transform# Load the raster file\n",
    "    # Get the dimensions of the raster\n",
    "    rows, cols = gdpprs_data.shape\n",
    "\n",
    "    # Create lists to hold the coordinates\n",
    "    lons_gdp = []\n",
    "    lats_gdp = []\n",
    "\n",
    "    # Loop through each pixel in the raster\n",
    "    for row in range(rows):\n",
    "        lon, lat = xy(gdpprs_affine, row, 1)\n",
    "        lats_gdp.append(lat)\n",
    "    for col in range(cols):\n",
    "        lon, lat = xy(gdpprs_affine, 1, col)\n",
    "        lons_gdp.append(lon)\n",
    "gdpprs_data[np.where(gdpprs_data <= 0)] = np.nan"
   ]
  },
  {
   "cell_type": "code",
   "execution_count": null,
   "id": "68e7482d-22bc-418a-9e80-bc1e2d8dede4",
   "metadata": {},
   "outputs": [],
   "source": [
    "mapplot(np.log(gdpprs_data), lons_gdp, lats_gdp, titl = 'GDP per capita PPP Map', labl = 'log(GDP $ de 2015 per capita PPP)', cmaph = \"RdYlGn\", maskOcean = True)"
   ]
  },
  {
   "cell_type": "markdown",
   "id": "577ca78d-8156-4b59-b1a2-567964752b07",
   "metadata": {},
   "source": [
    "# Your turn !"
   ]
  },
  {
   "cell_type": "markdown",
   "id": "397421dd-6efd-4ac3-89ba-3f12dc33ae04",
   "metadata": {},
   "source": [
    "Two examples of graph construction are given below:\n",
    "- Lorenz Curve\n",
    "- Box plot of population density grouped by 4 income categories\n",
    "\n",
    "\n",
    "Several pieces of code are given below to help you perform calculations on data grids. You can see the material given to you as a set of matrices of the same dimensions and georeferenced in the same way. So: the data in the (i,j) cells of the various matrices always point to the same location. You can therefore work by creating your reflections, indicators and calculations for a specific location, then generalize your calculations by performing term-to-term operations on the matrices.  \n",
    "\n",
    "Think about a way to graphically represent the distribution of exposure to heat wave hazards, based on vulnerability indicators, and suggest one or two representations. You will then have to present these representations and the path you took to design them to the rest of the class."
   ]
  },
  {
   "cell_type": "code",
   "execution_count": null,
   "id": "f1c27dbd-ca9c-4810-83d2-05f263d24126",
   "metadata": {},
   "outputs": [],
   "source": [
    "### Courbe de Lorenz\n",
    "\n",
    "# Code a function to get the indices of the ranked values\n",
    "def get_sorted_indices_1d(arr):\n",
    "    # Flatten the array and get the indices of the sorted array\n",
    "    flat_indices = np.argsort(arr, axis=None)\n",
    "    \n",
    "    # Convert flat indices to 2D indices\n",
    "    indices_2d = np.unravel_index(flat_indices, arr.shape)\n",
    "    \n",
    "    # Zip the 2D indices to create pairs and then convert to a 1D array of tuples\n",
    "    sorted_indices_1d = np.array(list(zip(indices_2d[0], indices_2d[1])))\n",
    "    \n",
    "    return sorted_indices_1d\n",
    "\n",
    "\n",
    "# Form the array of the gdp per grid cell (= gdp per capita * population densiy * surface of each gridcell). We need to build the latter\n",
    "\n",
    "def calculate_global_grid_cell_areas(shape, cell_size):\n",
    "    \"\"\"\n",
    "    Calculate the area of each grid cell in a global raster grid.\n",
    "    \n",
    "    Parameters:\n",
    "    - shape: The shape of the grid (rows, columns). This is calculated based on the entire earth's coverage.\n",
    "    - cell_size: The size of each grid cell in degrees.\n",
    "    \n",
    "    Returns:\n",
    "    A 2D array where each element represents the area of the corresponding grid cell in square kilometers.\n",
    "    \"\"\"\n",
    "    # Earth's radius in kilometers\n",
    "    R = 6371.0\n",
    "    \n",
    "    # Convert cell size from degrees to radians\n",
    "    delta_lat_rad = np.radians(cell_size)\n",
    "    delta_lon_rad = np.radians(cell_size)\n",
    "    \n",
    "    # Calculate the total number of rows and columns based on the entire earth's coverage\n",
    "    rows = int(180 / cell_size)  # From -90 to 90 degrees\n",
    "    cols = int(360 / cell_size)  # From -180 to 180 degrees\n",
    "    \n",
    "    # Initialize an array to hold the area of each cell\n",
    "    areas = np.zeros((rows, cols))\n",
    "    \n",
    "    for i in range(rows):\n",
    "        # Calculate the latitude at the center of the current row\n",
    "        lat = -90 + (i + 0.5) * cell_size\n",
    "        \n",
    "        # Convert latitude to radians\n",
    "        lat_rad = np.radians(lat)\n",
    "        \n",
    "        # Calculate the area of each cell in this row\n",
    "        row_area = (R ** 2) * np.cos(lat_rad) * delta_lat_rad * delta_lon_rad\n",
    "        \n",
    "        # Assign this area to all cells in the current row\n",
    "        areas[i, :] = row_area\n",
    "    \n",
    "    return areas\n",
    "\n",
    "# Specify the cell size\n",
    "cell_size = .5  # Each cell is .5x.5 degree\n",
    "\n",
    "# Calculate areas for a grid that covers the entire Earth\n",
    "global_areas = calculate_global_grid_cell_areas(shape=(180, 360), cell_size=cell_size)\n",
    "print(\"Global Grid Cell Areas (in square kilometers):\")\n",
    "print(global_areas)\n",
    "\n",
    "# Let's form the array of gdp per gridcell and the array of population by gridcell\n",
    "\n",
    "pop_grid = global_areas * poprs_data\n",
    "gdp_grid = gdpprs_data * pop_grid\n"
   ]
  },
  {
   "cell_type": "code",
   "execution_count": null,
   "id": "38e0dbff-ef2a-49b8-bc1f-5f8adcb82f78",
   "metadata": {},
   "outputs": [],
   "source": [
    "# Get the rank grid of gdp, in order to construct the cumulative curve\n",
    "ranks_gdp_ids = get_sorted_indices_1d(gdp_grid)\n",
    "\n",
    "sorted_gdp_data = [gdp_grid[x,y] for x, y in ranks_gdp_ids if not np.isnan(gdp_grid[x,y])]\n",
    "ranks_gdp_ids_nonan = ranks_gdp_ids[0:len(sorted_gdp_data)] # no nan values anymore at the end of the list\n",
    "\n",
    "cumul_gdp = [0]\n",
    "cumul_pop = [0]\n",
    "\n",
    "count = 0\n",
    "for idx in ranks_gdp_ids_nonan:\n",
    "    x, y = idx[0], idx[1]\n",
    "    if not np.isnan(gdp_grid[x,y]):\n",
    "        cumul_gdp+= [cumul_gdp[count] + gdp_grid[x,y]]\n",
    "    else:\n",
    "        cumul_gdp+= [cumul_gdp[count]]\n",
    "    if not np.isnan(pop_grid[x,y]):\n",
    "        cumul_pop+= [cumul_pop[count] + pop_grid[x,y]]\n",
    "    else:\n",
    "        cumul_pop+= [cumul_pop[count]]\n",
    "    count+=1\n",
    "\n",
    "cpop_norm = np.array(cumul_pop)/cumul_pop[-1]\n",
    "cgdp_norm = np.array(cumul_gdp)/cumul_gdp[-1]\n",
    "plt.plot(cpop_norm, cgdp_norm, label = \"gridcell-based Lorenz curve\")\n",
    "plt.plot(cpop_norm,cpop_norm, label = \"'perfect world' Lorenz curve\")\n",
    "plt.xlabel('share of world population')\n",
    "plt.ylabel('share of world GDP (PPP)')\n",
    "plt.title('Lorenz curve with gridcell resolution')\n",
    "plt.legend(loc = \"best\")\n",
    "plt.show()\n",
    "print(\"Beware, GDP represents a flow, not a stock. This representation is about share of 'revenue', not 'wealth'\")"
   ]
  },
  {
   "cell_type": "markdown",
   "id": "25083bcf-e7cf-46c4-bf54-a8f9fa518f3f",
   "metadata": {},
   "source": [
    "Violin plot of exposure compared to levels of gdp"
   ]
  },
  {
   "cell_type": "markdown",
   "id": "aff12900-bb66-4daa-84f8-c78a42ee4105",
   "metadata": {},
   "source": [
    "Let us produce box plots of population according to levels of revenue"
   ]
  },
  {
   "cell_type": "code",
   "execution_count": null,
   "id": "e8c1e770-f2d9-478d-8b85-2d0ff60d8864",
   "metadata": {},
   "outputs": [],
   "source": [
    "# Get the rank grid of gdp, in order to construct the cumulative curve\n",
    "ranks_gdp_ids = get_sorted_indices_1d(gdpprs_data)\n",
    "\n",
    "sorted_gdp_data = [gdpprs_data[x,y] for x, y in ranks_gdp_ids if not np.isnan(gdpprs_data[x,y])] #we discard the np.nan values, no pb of order because the np.nan values are at the end\n",
    "\n",
    "quant_pop = len(sorted_gdp_data)//4 # get the quantile population, here we take 4 quantiles\n",
    "\n",
    "\n",
    "# Step 3: Classify GDP data into 4 quantiles\n",
    "indices_classes = [[[x,y] for x,y in  ranks_gdp_ids[i*quant_pop:(i+1)*quant_pop]] for i in range(4)]  # Returns a list containing 4 lists of the indices of the quantiles\n",
    "\n",
    "# Step 4: Associate Population Density with gdp classes\n",
    "pop_by_gdp_class = [[np.log(poprs_data[x,y]) for x,y in indices_classes[i] if not np.isnan(poprs_data[x,y])] for i in range(4)]  # Create the lists for the box plots\n",
    "\n",
    "# Step 5: Plot the data\n",
    "fig, ax = plt.subplots()\n",
    "ax.boxplot(pop_by_gdp_class)\n",
    "ax.set_title('log(Population density by GDP per Capita Class)')\n",
    "ax.set_xlabel('GDP per Capita Class')\n",
    "ax.set_ylabel('log(Population density (pers/km^2))')\n",
    "ax.set_xticks([y + 1 for y in range(len(pop_by_gdp_class))],\n",
    "                  labels=['Q1', 'Q2', 'Q3', 'Q4'])\n",
    "\n",
    "plt.show()"
   ]
  }
 ],
 "metadata": {
  "kernelspec": {
   "display_name": "Python 3 (ipykernel)",
   "language": "python",
   "name": "python3"
  },
  "language_info": {
   "codemirror_mode": {
    "name": "ipython",
    "version": 3
   },
   "file_extension": ".py",
   "mimetype": "text/x-python",
   "name": "python",
   "nbconvert_exporter": "python",
   "pygments_lexer": "ipython3",
   "version": "3.12.4"
  }
 },
 "nbformat": 4,
 "nbformat_minor": 5
}
